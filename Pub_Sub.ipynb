{
 "cells": [
  {
   "cell_type": "code",
   "execution_count": null,
   "id": "a6746182-4c4f-43ce-8be4-1cd2e227d2c2",
   "metadata": {},
   "outputs": [],
   "source": [
    "from google.cloud import pubsub_v1\n",
    "from google.oauth2 import service_account\n",
    "\n",
    "# set this to your initials\n",
    "project_id = \"welu420\"\n",
    "topic_id = \"load_new_rides\"\n",
    "\n",
    "# the downloaded key filename which you uploaded to this Colab session\n",
    "key_path = \"welu420-8af84caa5bcf.json.json\"\n",
    "\n",
    "# create credentials\n",
    "credentials = service_account.Credentials.from_service_account_file(\n",
    "    key_path, scopes=[\"https://www.googleapis.com/auth/cloud-platform\"],\n",
    ")\n",
    "\n",
    "# create publisher and topic objects\n",
    "publisher = pubsub_v1.PublisherClient(credentials=credentials)\n",
    "topic_path = publisher.topic_path(project_id, topic_id)\n",
    "\n",
    "data = \"Message from Python\"\n",
    "data = data.encode(\"utf-8\") # data must be a bytestring\n",
    "    \n",
    "future = publisher.publish(topic_path, data)\n",
    "print(f\"Published message with ID {future.result()}\")\n"
   ]
  },
  {
   "cell_type": "code",
   "execution_count": null,
   "id": "923baba4-2047-4727-8ddd-b0c92d2d100c",
   "metadata": {},
   "outputs": [],
   "source": [
    "subscription_id = \"rental_subscription\"\n",
    "timeout = 50.0  # number of seconds the subscriber should listen for messages\n",
    "\n",
    "subscriber = pubsub_v1.SubscriberClient(credentials=credentials)\n",
    "subscription_path = subscriber.subscription_path(project_id, subscription_id)\n",
    "\n",
    "def callback(message):\n",
    "    \"\"\" This is the method which is called when a message arrives \"\"\"\n",
    "    print(\"Received message: {}\".format(message))\n",
    "    message.ack()  # we acknowledge the message\n",
    "\n",
    "# start the subscription\n",
    "streaming_pull_future = subscriber.subscribe(subscription_path, callback=callback)\n",
    "print(\"Listening for messages on {}..\\n\".format(subscription_path))\n",
    "\n",
    "# wrap subscriber in a 'with' block to automatically call close() when done\n",
    "with subscriber:\n",
    "    try:\n",
    "        streaming_pull_future.result(timeout=timeout)\n",
    "    except TimeoutError:\n",
    "        streaming_pull_future.cancel()\n"
   ]
  }
 ],
 "metadata": {
  "kernelspec": {
   "display_name": "Python 3 (ipykernel)",
   "language": "python",
   "name": "python3"
  },
  "language_info": {
   "codemirror_mode": {
    "name": "ipython",
    "version": 3
   },
   "file_extension": ".py",
   "mimetype": "text/x-python",
   "name": "python",
   "nbconvert_exporter": "python",
   "pygments_lexer": "ipython3",
   "version": "3.8.8"
  }
 },
 "nbformat": 4,
 "nbformat_minor": 5
}
